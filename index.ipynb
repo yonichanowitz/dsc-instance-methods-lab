{
 "cells": [
  {
   "cell_type": "markdown",
   "metadata": {},
   "source": [
    "# Instance Methods - Lab"
   ]
  },
  {
   "cell_type": "markdown",
   "metadata": {},
   "source": [
    "## Introduction\n",
    "In the last lesson, you learned about instance methods -- what they are and how to define them. In this lab, you are going to flesh out the `Driver` and `Passenger` classes by writing your own instance methods for these classes."
   ]
  },
  {
   "cell_type": "markdown",
   "metadata": {},
   "source": [
    "## Objectives\n",
    "\n",
    "In this lab you will: \n",
    "\n",
    "* Create an instance of a class \n",
    "* Define and call an instance method\n"
   ]
  },
  {
   "cell_type": "markdown",
   "metadata": {},
   "source": [
    "## Define classes and instance methods"
   ]
  },
  {
   "cell_type": "markdown",
   "metadata": {},
   "source": [
    "You will now define classes and associated instance methods in the cell below: \n",
    "    \n",
    "> **Remember:** *as we learned in the previous lesson, we need to define our instance methods with at least one argument (`self`) in order to call them on an instance object.*"
   ]
  },
  {
   "cell_type": "markdown",
   "metadata": {},
   "source": [
    "Define a class `Driver` with two instance methods: \n",
    "\n",
    "- `greeting`: this should return the string `\"Hey, how are you?\"` \n",
    "- `ask_for_destination`: this should return the string `\"Where would you like to go today?\"` "
   ]
  },
  {
   "cell_type": "code",
   "execution_count": 1,
   "metadata": {},
   "outputs": [],
   "source": [
    "# Define Driver class here\n",
    "class Driver():\n",
    "    \n",
    "    def greeting(self):\n",
    "        print(\"Hey, how are you?\")\n",
    "        \n",
    "    def ask_for_destination(self):\n",
    "        print(\"Where would you like to go today?\")"
   ]
  },
  {
   "cell_type": "markdown",
   "metadata": {},
   "source": [
    "Define a class `Passenger` with two instance methods: \n",
    "\n",
    "- `reply_greeting`: this should return the string `\"I am doing well!\"` \n",
    "- `in_a_hurry`: this should return the string `\"Punch it! They're on our tail!\"`"
   ]
  },
  {
   "cell_type": "code",
   "execution_count": 2,
   "metadata": {},
   "outputs": [],
   "source": [
    "# Define Passenger class here \n",
    "class Passenger:\n",
    "    \n",
    "    def reply_greeting(self):\n",
    "        print(\"I am doing well, baruch hashem!\")\n",
    "        \n",
    "    def in_a_hurry(self):\n",
    "        print(\"Punch it! They're on our tail!\")\n",
    "        \n",
    "    def greet_in_hurry(self):\n",
    "        self.reply_greeting()\n",
    "        self.in_a_hurry()"
   ]
  },
  {
   "cell_type": "markdown",
   "metadata": {},
   "source": [
    "## Instantiate classes and methods\n",
    "\n",
    "Great! You've now defined classes and the associated instance methods. You will now actually use them: \n",
    "\n",
    "Start by instantiating a driver and a passenger. Assign the driver to the variable `daniel` and assign the passenger to `niky`. "
   ]
  },
  {
   "cell_type": "code",
   "execution_count": 3,
   "metadata": {},
   "outputs": [],
   "source": [
    "daniel = Driver() # driver\n",
    "niky = Passenger() # passenger"
   ]
  },
  {
   "cell_type": "markdown",
   "metadata": {},
   "source": [
    "Alright, you have the passengers and drivers! Now you need to put those instance methods to use. Try them out and assign the return values to the variables below. \n",
    "\n",
    "- Have `daniel` greet his passenger, who is going to be `niky`. Assign the greeting to the variable `polite_greeting` \n",
    "- Have `niky` respond by calling `in_a_hurry()`, and assign the return value to the variable, `no_time_to_talk` "
   ]
  },
  {
   "cell_type": "code",
   "execution_count": 4,
   "metadata": {},
   "outputs": [
    {
     "name": "stdout",
     "output_type": "stream",
     "text": [
      "Hey, how are you?\n",
      "None\n"
     ]
    }
   ],
   "source": [
    "polite_greeting = daniel.greeting()\n",
    "print(polite_greeting)"
   ]
  },
  {
   "cell_type": "code",
   "execution_count": 5,
   "metadata": {},
   "outputs": [
    {
     "name": "stdout",
     "output_type": "stream",
     "text": [
      "Punch it! They're on our tail!\n",
      "None\n"
     ]
    }
   ],
   "source": [
    "no_time_to_talk = niky.in_a_hurry()\n",
    "print(no_time_to_talk)"
   ]
  },
  {
   "cell_type": "code",
   "execution_count": 6,
   "metadata": {},
   "outputs": [
    {
     "name": "stdout",
     "output_type": "stream",
     "text": [
      "I am doing well, baruch hashem!\n",
      "Punch it! They're on our tail!\n"
     ]
    }
   ],
   "source": [
    "niky.greet_in_hurry()"
   ]
  },
  {
   "cell_type": "markdown",
   "metadata": {},
   "source": [
    "## Feel like doing more? \n",
    "\n",
    "In the cells below, you'll create three different classes that represent animals in a zoo -- lions, tigers, and elephants. Each animal should have a method, `speak()`, which returns a string containing the sound they make (feel free to have some fun with this -- we don't know how to spell the sound an elephant makes any better than you do!). "
   ]
  },
  {
   "cell_type": "code",
   "execution_count": 7,
   "metadata": {},
   "outputs": [],
   "source": [
    "# Create Lion class\n",
    "class Lions():\n",
    "    \n",
    "    def speak(self):\n",
    "        print (\"ROAR!!!\")"
   ]
  },
  {
   "cell_type": "code",
   "execution_count": 24,
   "metadata": {},
   "outputs": [],
   "source": [
    "# Create Tiger class\n",
    "class Tiger():\n",
    "    \n",
    "    def speak(self):\n",
    "        Lions.speak(self)\n",
    "        print(\"Ta ta!\")"
   ]
  },
  {
   "cell_type": "code",
   "execution_count": 25,
   "metadata": {},
   "outputs": [],
   "source": [
    "class Bears():\n",
    "    \n",
    "    def speak(self):\n",
    "        Lions.speak(self)\n",
    "        print(\"Oh my!\")"
   ]
  },
  {
   "cell_type": "code",
   "execution_count": 26,
   "metadata": {},
   "outputs": [
    {
     "name": "stdout",
     "output_type": "stream",
     "text": [
      "ROAR!!!\n",
      "Ta ta!\n"
     ]
    }
   ],
   "source": [
    "shere_kahn = Tiger()\n",
    "shere_kahn.speak()"
   ]
  },
  {
   "cell_type": "code",
   "execution_count": 27,
   "metadata": {},
   "outputs": [
    {
     "name": "stdout",
     "output_type": "stream",
     "text": [
      "ROAR!!!\n",
      "Oh my!\n"
     ]
    }
   ],
   "source": [
    "chicago = Bears()\n",
    "chicago.speak()"
   ]
  },
  {
   "cell_type": "code",
   "execution_count": 28,
   "metadata": {},
   "outputs": [],
   "source": [
    "# Create Elephant class\n",
    "class Elephant():\n",
    "    \n",
    "    def speak(self):\n",
    "        \"toot\""
   ]
  },
  {
   "cell_type": "markdown",
   "metadata": {},
   "source": [
    "Now, in the cell below, create an instance of each animal: "
   ]
  },
  {
   "cell_type": "code",
   "execution_count": 29,
   "metadata": {},
   "outputs": [],
   "source": [
    "simba = Lions()\n",
    "tony = Tiger()\n",
    "smokey = Bears()\n",
    "dumbo = Elephant()"
   ]
  },
  {
   "cell_type": "markdown",
   "metadata": {},
   "source": [
    "Now, add each of them into the list `zoo` in the cell below: "
   ]
  },
  {
   "cell_type": "code",
   "execution_count": 30,
   "metadata": {},
   "outputs": [],
   "source": [
    "zoo = [simba, tony, smokey, dumbo]"
   ]
  },
  {
   "cell_type": "markdown",
   "metadata": {},
   "source": [
    "Now, loop through the `zoo` list and call out the `.speak()` method for every animal in the zoo. Make sure you print this in order to see the output! "
   ]
  },
  {
   "cell_type": "code",
   "execution_count": 31,
   "metadata": {},
   "outputs": [
    {
     "name": "stdout",
     "output_type": "stream",
     "text": [
      "ROAR!!!\n",
      "ROAR!!!\n",
      "Ta ta!\n",
      "ROAR!!!\n",
      "Oh my!\n"
     ]
    }
   ],
   "source": [
    "for animal in zoo:\n",
    "    animal.speak()"
   ]
  },
  {
   "cell_type": "markdown",
   "metadata": {},
   "source": [
    "## Summary\n",
    "In this lab, you practiced defining classes and instance methods. You then instantiated instances of your classes and used them to practice calling your instance methods. "
   ]
  }
 ],
 "metadata": {
  "kernelspec": {
   "display_name": "Python 3 (ipykernel)",
   "language": "python",
   "name": "python3"
  },
  "language_info": {
   "codemirror_mode": {
    "name": "ipython",
    "version": 3
   },
   "file_extension": ".py",
   "mimetype": "text/x-python",
   "name": "python",
   "nbconvert_exporter": "python",
   "pygments_lexer": "ipython3",
   "version": "3.9.7"
  }
 },
 "nbformat": 4,
 "nbformat_minor": 2
}
